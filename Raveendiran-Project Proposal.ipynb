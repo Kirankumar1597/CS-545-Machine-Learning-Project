{
 "cells": [
  {
   "cell_type": "markdown",
   "metadata": {},
   "source": [
    "# Project Proposal"
   ]
  },
  {
   "cell_type": "markdown",
   "metadata": {},
   "source": [
    "# Convolutional Neural Networks for Classification of Vehicles"
   ]
  },
  {
   "cell_type": "markdown",
   "metadata": {},
   "source": [
    "<font size=3>**Kirankumar Raveendiran**<br>\n",
    "**Jaya Vignesh Balakrishnan, November 5, 2021**</font>"
   ]
  },
  {
   "cell_type": "markdown",
   "metadata": {},
   "source": [
    "## Introduction"
   ]
  },
  {
   "cell_type": "markdown",
   "metadata": {},
   "source": [
    "In this project we will be doing Image Classification using convolutional neural networks on any one of the Vehicle Dataset available online. The motivation behind our project idea is the homework assignment A3 where we applied our Neural Network Classifier class model to classify the MNIST Handwritten Digits Dataset. To make the machines classify the objects like how humans do upon visualization is very interesting and yet a challenging topic to address. We are going to address this topic through the following steps:\n",
    "\n",
    "* Apply the convolutional neural network learning algorithm taught in class to the vehicle dataset of interest. \n",
    "\n",
    "* Analyze the results with train and test accuracy obtained on using the optimizer functions covered in class (SGD, ADAM and SCG). \n",
    "\n",
    "* To visualize the images along with the network predictions to help us understand how the neural network model makes decisions based on the hyperparameters learning rate, number of epochs, optimizer function/method used, hidden layer structure and so on.\n",
    "\n",
    "* Perform Convolutional Neural Network (CNN) learning algorithm using Pytorch for classification and compare the results."
   ]
  },
  {
   "cell_type": "markdown",
   "metadata": {},
   "source": [
    "## Methods"
   ]
  },
  {
   "cell_type": "markdown",
   "metadata": {},
   "source": [
    "**The following are the steps involved in the completion of this project:**\n",
    "\n",
    "**1) Data Collection:** There are large number of vehicle datasets are available online in different sources like Kaggle, UCI Machine Learning Repository, Google's Dataset Search Engine and so on from which we need to identify the apt dataset that rightly serves the purpose of this project.\n",
    "\n",
    "**2) Training the network model:** The network model will be trained using CNN learning algorithm and also will be trained using CNN defined in Pytorch by directly calling the neural network torch functions from the network model. Each network model will be trained for different configurations of hyperparameters i.e., for different values of learning rate, number of epochs, number of hidden layers and the number hidden units present in each layer, and lastly for different optimizer functions SGD, ADAM and SCG on the given dataset.\n",
    "\n",
    "**3) Source Code:** We are planning to write our own code with the help of Homework Assignments A3 (Neural Network Classifier) and A4 (Convolutional Neural Networks) meanwhile we will be referring web articles like TowardsDataScience and GitHub to build the CNN model and understand the concepts involved while defining the CNN model and the necessary functions that need to be defined for classifying the different classes of vehicles from the given dataset.\n",
    "\n",
    "**4) Testing the network model:** This is the most important part of the project, we need to validate whether the network model defined in the code while training using the train dataset correctly predicts the different classes of vehicles present in the test dataset on testing.\n",
    "\n",
    "**5) Plotting of results:** To Identify the best configuration for which the built CNN model is compiled by carrying out enough number of experiments for different learning rates, epochs, hidden unit structures and methods, and then plot the necessary graphs that compares the values of train, validation and test accuracy achieved and the losses incurred on compilation of the CNN model.\n"
   ]
  },
  {
   "cell_type": "markdown",
   "metadata": {},
   "source": [
    "### Timeline "
   ]
  },
  {
   "cell_type": "markdown",
   "metadata": {},
   "source": [
    "The project's timeline and how the tasks will be divided between us with expected completion dates are shown below."
   ]
  },
  {
   "cell_type": "markdown",
   "metadata": {},
   "source": [
    "#### Jaya Vignesh Balakrishnan"
   ]
  },
  {
   "cell_type": "markdown",
   "metadata": {},
   "source": [
    "|**_Task_** | **_Duration_** |\n",
    "| --- | --- |\n",
    "| Data Collection from online| Nov 8 - Nov 9 |\n",
    "| Analyzing articles related to CNN from online | Nov 10 - Nov 11 |\n",
    "| Collecting codes related to CNN from online | Nov 12 |\n",
    "| Training the model (Pytorch) | Nov 22 - Nov 27 |\n",
    "| Writing Observations | Dec 3 - Dec 4 |"
   ]
  },
  {
   "cell_type": "markdown",
   "metadata": {},
   "source": [
    "#### Kirankumar Raveendiran"
   ]
  },
  {
   "cell_type": "markdown",
   "metadata": {},
   "source": [
    "|**_Task_** | **_Duration_** |\n",
    "| --- | --- |\n",
    "| Training the model (CNN) | Nov 15 - Nov 20 |\n",
    "| Testing the model for different configurations | Nov 29 - Dec 1 |\n",
    "| Identifying the best network model configuration | Dec 2 |\n",
    "| Graphs Plotting | Dec 2 |\n",
    "| Writing Observations | Dec 3 - Dec 4 |"
   ]
  },
  {
   "cell_type": "markdown",
   "metadata": {},
   "source": [
    "Though we both have our own assigned tasks, we will help each other if any of us have doubts needed to be clarified."
   ]
  },
  {
   "cell_type": "markdown",
   "metadata": {},
   "source": [
    "## Results"
   ]
  },
  {
   "cell_type": "markdown",
   "metadata": {},
   "source": [
    "> * We will be classifying the different classes of vehicles for example like cars, bikes, trucks, buses and so on which is much similar to classifying Hand-drawn Digits from MNIST dataset."
   ]
  },
  {
   "cell_type": "markdown",
   "metadata": {},
   "source": [
    "> * Our aim is to achieve test accuracy greater than 90% or atleast in the order of 85% to 89%."
   ]
  },
  {
   "cell_type": "markdown",
   "metadata": {},
   "source": [
    "## Conclusions"
   ]
  },
  {
   "cell_type": "markdown",
   "metadata": {},
   "source": [
    "* Much deeper understanding on the concepts involved in convolutional neural networks will be learned.\n",
    "\n",
    "* Deep understanding on the difference between Classification of Vehicles with Convolutional Neural Networks using Numpy (in CPU) and Pytorch (in GPU) will also be learned.\n",
    "\n",
    "* Identifying the right dataset and CNN model code from online will be one of the challenging task to do.\n",
    "\n",
    "* Considering the work need to be done in this project, the most difficult task that need to be done will be defining the CNN model code for the vehicle dataset of interest.\n",
    "\n",
    "* Once the above task is done, then implementing the same CNN functions using pytorch can be completed in a short span of time."
   ]
  },
  {
   "cell_type": "markdown",
   "metadata": {},
   "source": [
    "### References"
   ]
  },
  {
   "cell_type": "markdown",
   "metadata": {},
   "source": [
    "* S. Indolia, A.K. Goswami, S.P. Mishra, P. Asopa, 'Conceptual Understanding of Convolutional Neural Network - A Deep Learning Approach Procedia Computer Science', 132 (2018), [Understanding Convolutional Neural Network](https://www.sciencedirect.com/science/article/pii/S1877050918308019)\n",
    "* S. Albawi, T. A. Mohammed and S. Al-Zawi, 'Understanding of a convolutional neural network', Engineering and Technology (ICET) 2017 International Conference on. IEEE, pp. 1-6, 2017, [Convolutional Neural Network](https://ieeexplore.ieee.org/stamp/stamp.jsp?tp=&arnumber=8308186)\n",
    "* Neha Sharma, Vibhor Jain, Anju Mishra, 'An analysis of Convolutional Neural Networks for Image Classification', International Conference on Computational Intelligence and Data Science (ICCIDS 2018), [An analysis of Convolutional Neural Networks for Image Classification](https://www.researchgate.net/publication/325663368_An_Analysis_Of_Convolutional_Neural_Networks_For_Image_Classification)\n",
    "* N. Jmour, S. Zayen and A. Abdelkrim, 'Convolutional neural networks for image classification', 2018 International Conference on Advanced Systems and Electric Technologies (IC_ASET), pp. 397-402, 2018, [Convolutional Neural Networks for Image Classification](https://ieeexplore.ieee.org/stamp/stamp.jsp?tp=&arnumber=8379889)"
   ]
  },
  {
   "cell_type": "code",
   "execution_count": 1,
   "metadata": {
    "ExecuteTime": {
     "end_time": "2021-10-27T14:49:15.869360Z",
     "start_time": "2021-10-27T14:49:15.860735Z"
    }
   },
   "outputs": [
    {
     "name": "stdout",
     "output_type": "stream",
     "text": [
      "Word count for file Raveendiran-Project Proposal.ipynb is 974\n"
     ]
    }
   ],
   "source": [
    "import io\n",
    "import nbformat\n",
    "import glob\n",
    "nbfile = glob.glob('Raveendiran-Project Proposal.ipynb')\n",
    "if len(nbfile) > 1:\n",
    "    print('More than one ipynb file. Using the first one.  nbfile=', nbfile)\n",
    "with io.open(nbfile[0], 'r', encoding='utf-8') as f:\n",
    "    nb = nbformat.read(f, nbformat.NO_CONVERT)\n",
    "word_count = 0\n",
    "for cell in nb.cells:\n",
    "    if cell.cell_type == \"markdown\":\n",
    "        word_count += len(cell['source'].replace('#', '').lstrip().split(' '))\n",
    "print('Word count for file', nbfile[0], 'is', word_count)"
   ]
  }
 ],
 "metadata": {
  "kernelspec": {
   "display_name": "Python 3 (ipykernel)",
   "language": "python",
   "name": "python3"
  },
  "language_info": {
   "codemirror_mode": {
    "name": "ipython",
    "version": 3
   },
   "file_extension": ".py",
   "mimetype": "text/x-python",
   "name": "python",
   "nbconvert_exporter": "python",
   "pygments_lexer": "ipython3",
   "version": "3.9.7"
  },
  "toc": {
   "base_numbering": 1,
   "nav_menu": {},
   "number_sections": true,
   "sideBar": true,
   "skip_h1_title": false,
   "title_cell": "Table of Contents",
   "title_sidebar": "Contents",
   "toc_cell": false,
   "toc_position": {},
   "toc_section_display": true,
   "toc_window_display": false
  }
 },
 "nbformat": 4,
 "nbformat_minor": 1
}
